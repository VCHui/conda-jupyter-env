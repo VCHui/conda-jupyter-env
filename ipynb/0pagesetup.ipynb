{
 "cells": [
  {
   "cell_type": "markdown",
   "metadata": {},
   "source": [
    "# Common page setup"
   ]
  },
  {
   "cell_type": "code",
   "execution_count": 1,
   "metadata": {},
   "outputs": [
    {
     "data": {
      "text/html": [
       "<style> .container { width:100% !important; } </style>\n",
       "<span>set cell span to full width</span>\n"
      ],
      "text/plain": [
       "<IPython.core.display.HTML object>"
      ]
     },
     "metadata": {},
     "output_type": "display_data"
    }
   ],
   "source": [
    "%%HTML\n",
    "<style> .container { width:100% !important; } </style>\n",
    "<span>set cell span to full width</span>"
   ]
  },
  {
   "cell_type": "code",
   "execution_count": 2,
   "metadata": {},
   "outputs": [
    {
     "data": {
      "application/javascript": [
       "element.text('disable scrolling in cell frames');\n",
       "IPython.OutputArea.prototype._should_scroll = function(lines) { return false; }\n",
       "IPython.notebook.kernel.execute('userAgent = \"' + navigator.userAgent + '\".lower()');\n"
      ],
      "text/plain": [
       "<IPython.core.display.Javascript object>"
      ]
     },
     "metadata": {},
     "output_type": "display_data"
    }
   ],
   "source": [
    "%%javascript\n",
    "element.text('disable scrolling in cell frames');\n",
    "IPython.OutputArea.prototype._should_scroll = function(lines) { return false; }\n",
    "IPython.notebook.kernel.execute('userAgent = \"' + navigator.userAgent + '\".lower()');"
   ]
  },
  {
   "cell_type": "code",
   "execution_count": 3,
   "metadata": {},
   "outputs": [],
   "source": [
    "def retinaconfig():\n",
    "    '''enable graphics enhancement for retina display'''\n",
    "    if 'userAgent' in globals():\n",
    "        if 'mac os x' in userAgent:\n",
    "            %config InlineBackend.figure_format = 'retina'\n",
    "            print(retinaconfig.__doc__)\n",
    "            return\n",
    "    return None\n",
    "retinaconfig()"
   ]
  }
 ],
 "metadata": {
  "kernelspec": {
   "display_name": "template",
   "language": "python",
   "name": "template"
  },
  "language_info": {
   "codemirror_mode": {
    "name": "ipython",
    "version": 3
   },
   "file_extension": ".py",
   "mimetype": "text/x-python",
   "name": "python",
   "nbconvert_exporter": "python",
   "pygments_lexer": "ipython3",
   "version": "3.10.4"
  }
 },
 "nbformat": 4,
 "nbformat_minor": 2
}
