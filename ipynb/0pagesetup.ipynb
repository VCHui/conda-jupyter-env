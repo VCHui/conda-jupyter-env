{
 "cells": [
  {
   "cell_type": "code",
   "execution_count": 1,
   "metadata": {},
   "outputs": [
    {
     "data": {
      "text/markdown": [
       "## page setup ...\n"
      ],
      "text/plain": [
       "<IPython.core.display.Markdown object>"
      ]
     },
     "metadata": {},
     "output_type": "display_data"
    }
   ],
   "source": [
    "%%markdown\n",
    "## page setup ..."
   ]
  },
  {
   "cell_type": "markdown",
   "metadata": {},
   "source": [
    "### notes\n",
    "\n",
    "* jupyter pairs `0pagesetup.ipynb` with `0pagesetup.py`\n",
    "* git tracks `0pagesetup.ipynb`, __not__ `0pagesetup.py`\n",
    "* `%run ./0pagesetup.ipynb` to load\n",
    "* `0pagesetup` not importable\n",
    "* check `nbdir()` outputs for a list of definitions loaded\n",
    "* check `nbenv()` outputs for a list of definitions strings"
   ]
  },
  {
   "cell_type": "code",
   "execution_count": 2,
   "metadata": {},
   "outputs": [
    {
     "data": {
      "text/html": [
       "<span>* set cell span to full width</span>\n",
       "<style> .container { width:100% !important; } </style>\n"
      ],
      "text/plain": [
       "<IPython.core.display.HTML object>"
      ]
     },
     "metadata": {},
     "output_type": "display_data"
    }
   ],
   "source": [
    "%%HTML\n",
    "<span>* set cell span to full width</span>\n",
    "<style> .container { width:100% !important; } </style>"
   ]
  },
  {
   "cell_type": "code",
   "execution_count": 3,
   "metadata": {},
   "outputs": [
    {
     "data": {
      "application/javascript": [
       "element.html(\"<span>* disabled scrolling in cells</span>\");\n",
       "IPython.OutputArea.prototype._should_scroll = function(lines) { return false; }\n"
      ],
      "text/plain": [
       "<IPython.core.display.Javascript object>"
      ]
     },
     "metadata": {},
     "output_type": "display_data"
    }
   ],
   "source": [
    "%%javascript\n",
    "element.html(\"<span>* disabled scrolling in cells</span>\");\n",
    "IPython.OutputArea.prototype._should_scroll = function(lines) { return false; }"
   ]
  },
  {
   "cell_type": "code",
   "execution_count": 4,
   "metadata": {},
   "outputs": [
    {
     "data": {
      "application/javascript": [
       "if(navigator.userAgent.includes('Mac OS X')) {\n",
       "    IPython.notebook.kernel.execute(\n",
       "        \"%config InlineBackend.figure_format = 'retina'\");\n",
       "    element.html(\"<span>* set InlineBackend.figure_format 'retina'\")\n",
       "    // __NOTE__ kernel.execute when the notebook is fully loaded!\n",
       "}\n"
      ],
      "text/plain": [
       "<IPython.core.display.Javascript object>"
      ]
     },
     "metadata": {},
     "output_type": "display_data"
    }
   ],
   "source": [
    "%%javascript\n",
    "if(navigator.userAgent.includes('Mac OS X')) {\n",
    "    IPython.notebook.kernel.execute(\n",
    "        \"%config InlineBackend.figure_format = 'retina'\");\n",
    "    element.html(\"<span>* set InlineBackend.figure_format 'retina'\")\n",
    "    // __NOTE__ kernel.execute when the notebook is fully loaded!\n",
    "}"
   ]
  },
  {
   "cell_type": "code",
   "execution_count": 5,
   "metadata": {},
   "outputs": [],
   "source": [
    "from IPython.display import Markdown, HTML\n",
    "from ipywidgets import interact\n",
    "noc = dict(continuous_update=False)"
   ]
  },
  {
   "cell_type": "code",
   "execution_count": 6,
   "metadata": {},
   "outputs": [
    {
     "name": "stdout",
     "output_type": "stream",
     "text": [
      ">>> nbdir()\n",
      "exit         get_ipython  HTML         In           interact   \n",
      "Markdown     nbdir        noc          Out          quit       \n",
      "\n"
     ]
    }
   ],
   "source": [
    "def nbdir(ncol=5):\n",
    "    \"dir() for notebooks\"\n",
    "    keys = [key for key in globals().keys()\n",
    "        if not key.startswith(\"_\")]\n",
    "    keys.sort(key=lambda key:key.upper())\n",
    "    maxlen = max(map(len,keys))\n",
    "    fmt = f\"{{:<{maxlen}}}\".format\n",
    "    ncol = min(ncol,80//(maxlen + 2))\n",
    "    print('>>> nbdir()')\n",
    "    for i in range(0,len(keys),ncol):\n",
    "        print(\"  \".join(map(fmt,keys[i:i+ncol])))        \n",
    "    print()\n",
    "\n",
    "nbdir()"
   ]
  },
  {
   "cell_type": "code",
   "execution_count": 7,
   "metadata": {},
   "outputs": [
    {
     "name": "stdout",
     "output_type": "stream",
     "text": [
      ">>> nbenv()\n",
      "\n"
     ]
    }
   ],
   "source": [
    "def nbenv():\n",
    "    \"ls *DIR defined\"\n",
    "    items = [(key,value) for key,value in globals().items()\n",
    "        if not key.startswith(\"_\") and isinstance(value,str)]\n",
    "    items.sort()\n",
    "    print('>>> nbenv()')\n",
    "    for key,value in items:\n",
    "        print((key,value,('sys.path',value in sys.path)))\n",
    "    print()\n",
    "\n",
    "nbenv()"
   ]
  }
 ],
 "metadata": {
  "hide_input": false,
  "kernelspec": {
   "display_name": "fomai",
   "language": "python",
   "name": "fomai"
  },
  "language_info": {
   "codemirror_mode": {
    "name": "ipython",
    "version": 3
   },
   "file_extension": ".py",
   "mimetype": "text/x-python",
   "name": "python",
   "nbconvert_exporter": "python",
   "pygments_lexer": "ipython3",
   "version": "3.7.9"
  }
 },
 "nbformat": 4,
 "nbformat_minor": 2
}
